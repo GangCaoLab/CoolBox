{
 "cells": [
  {
   "cell_type": "code",
   "execution_count": 1,
   "metadata": {},
   "outputs": [],
   "source": [
    "# Import coolbox\n",
    "import sys\n",
    "sys.path.insert(0, \"../\")\n",
    "from coolbox.api import *"
   ]
  },
  {
   "cell_type": "markdown",
   "metadata": {},
   "source": [
    "**Run the cell below to start a coolbox browser.**"
   ]
  },
  {
   "cell_type": "code",
   "execution_count": 2,
   "metadata": {
    "scrolled": false
   },
   "outputs": [
    {
     "data": {
      "application/vnd.jupyter.widget-view+json": {
       "model_id": "b0324fd091d041889a56b10fff821d3f",
       "version_major": 2,
       "version_minor": 0
      },
      "text/plain": [
       "VBox(children=(VBox(children=(HBox(children=(Dropdown(index=8, options=('chr1', 'chr2', 'chr3', 'chr4', 'chr5'…"
      ]
     },
     "metadata": {},
     "output_type": "display_data"
    }
   ],
   "source": [
    "DATA_DIR = f\"test_data\"\n",
    "test_interval = \"chr9:4000000-6000000\"\n",
    "test_itv = test_interval.replace(':', '_').replace('-', '_')\n",
    "\n",
    "cool1 = Cool(f\"{DATA_DIR}/cool_{test_itv}.mcool\", cmap=\"JuiceBoxLike\", style='window', color_bar='vertical')\n",
    "with TrackHeight(2):\n",
    "    frame = XAxis() + \\\n",
    "        cool1 + Title(\"Hi-C(.cool)\") + \\\n",
    "        TADCoverage(f\"{DATA_DIR}/tad_{test_itv}.bed\", border_only=True, alpha=1) + Title(\"HIC with TADs\") + \\\n",
    "        Spacer(0.1) + \\\n",
    "        BED(f\"{DATA_DIR}/tad_{test_itv}.bed\", border_only=True, alpha=1) + Title(\"TADs\") + \\\n",
    "        DiScore(cool1, window_size=30) + Feature(title=\"Directionality index\") + \\\n",
    "        InsuScore(cool1, window_size=30) + Title(\"Insulation score\") + \\\n",
    "        Virtual4C(cool1, \"chr9:4986000-4986000\") + Title(\"Virtual4C\") + \\\n",
    "        BAMCov(f\"{DATA_DIR}/bam_{test_itv}.bam\") + Title(\"BAM Coverage\") +\\\n",
    "        Spacer(0.1) + \\\n",
    "        Arcs(f\"{DATA_DIR}/bedpe_{test_itv}.bedpe\", line_width=1.5) + Title(\"Arcs(BEDPE)\") + \\\n",
    "        Arcs(f\"{DATA_DIR}/pairs_{test_itv}.pairs\", line_width=1.5) + Inverted() + Title(\"Arcs(Pairs)\") + \\\n",
    "        GTF(f\"{DATA_DIR}/gtf_{test_itv}.gtf\", length_ratio_thresh=0.005) + TrackHeight(6) + Title(\"GTF Annotation\") + \\\n",
    "        Spacer(0.1) + \\\n",
    "        BigWig(f\"{DATA_DIR}/bigwig_{test_itv}.bw\") + Title(\"BigWig\") + \\\n",
    "        BedGraph(f\"{DATA_DIR}/bedgraph_{test_itv}.bg\") + Title(\"BedGraph\") + \\\n",
    "        Spacer(0.1) + \\\n",
    "        BED(f\"{DATA_DIR}/bed_{test_itv}.bed\") + Feature(height=10, title=\"BED Annotation\")\n",
    "frame.properties['width'] = 45\n",
    "bsr = Browser(frame)\n",
    "bsr.goto(test_interval)\n",
    "bsr.show()\n"
   ]
  }
 ],
 "metadata": {
  "@webio": {
   "lastCommId": null,
   "lastKernelId": null
  },
  "kernelspec": {
   "display_name": "Python 3",
   "language": "python",
   "name": "python3"
  },
  "language_info": {
   "codemirror_mode": {
    "name": "ipython",
    "version": 3
   },
   "file_extension": ".py",
   "mimetype": "text/x-python",
   "name": "python",
   "nbconvert_exporter": "python",
   "pygments_lexer": "ipython3",
   "version": "3.7.9"
  }
 },
 "nbformat": 4,
 "nbformat_minor": 4
}
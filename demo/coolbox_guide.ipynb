{
 "cells": [
  {
   "cell_type": "markdown",
   "metadata": {},
   "source": [
    "# A Simple Guide of CoolBox\n"
   ]
  },
  {
   "cell_type": "code",
   "execution_count": 1,
   "metadata": {},
   "outputs": [],
   "source": [
    "% matplotlib inline\n",
    "\n",
    "# import packages\n",
    "from coolbox.api import *"
   ]
  },
  {
   "cell_type": "markdown",
   "metadata": {},
   "source": [
    "## Data preparation\n",
    "### Download some example files\n",
    "\n",
    "Firstly we download some example genomic data from public database. Here, all of our data is about the K562 cancer cell line."
   ]
  },
  {
   "cell_type": "code",
   "execution_count": 1,
   "metadata": {
    "collapsed": true
   },
   "outputs": [
    {
     "name": "stderr",
     "output_type": "stream",
     "text": [
      "IOPub data rate exceeded.\n",
      "The notebook server will temporarily stop sending output\n",
      "to the client in order to avoid crashing it.\n",
      "To change this limit, set the config variable\n",
      "`--NotebookApp.iopub_data_rate_limit`.\n",
      "\n",
      "Current values:\n",
      "NotebookApp.iopub_data_rate_limit=1000000.0 (bytes/sec)\n",
      "NotebookApp.rate_limit_window=3.0 (secs)\n",
      "\n"
     ]
    }
   ],
   "source": [
    "%%bash\n",
    "\n",
    "mkdir data\n",
    "\n",
    "# example .cool file\n",
    "wget -O data/K562_MbolI_5kb.cool ftp://cooler.csail.mit.edu/coolers/hg19/Rao2014-K562-MboI-allreps-filtered.5kb.cool\n",
    "# .looplist file\n",
    "wget -O data/K562_MbolI_looplist.txt.gz ftp://ftp.ncbi.nlm.nih.gov/geo/series/GSE63nnn/GSE63525/suppl/GSE63525_K562_HiCCUPS_looplist.txt.gz\n",
    "\n",
    "# bigwig files (ChIP-Seq and RNA-Seq data)\n",
    "wget -O data/K562_H3K27ac.bigWig  ftp://ftp.ncbi.nlm.nih.gov/geo/samples/GSM733nnn/GSM733656/suppl/GSM733656_hg19_wgEncodeBroadHistoneK562H3k27acStdSig.bigWig\n",
    "wget -O data/K562_H3K27me3.bigWig ftp://ftp.ncbi.nlm.nih.gov/geo/samples/GSM733nnn/GSM733658/suppl/GSM733658_hg19_wgEncodeBroadHistoneK562H3k27me3StdSig.bigWig\n",
    "wget -O data/K562_H3K4me3.bigWig  ftp://ftp.ncbi.nlm.nih.gov/geo/samples/GSM945nnn/GSM945297/suppl/GSM945297_hg19_wgEncodeUwHistoneK562H3k04me3StdZnf2c10c5RawRep1.bigWig\n",
    "wget -O data/K562_RNASeq.bigWig ftp://ftp.ncbi.nlm.nih.gov/geo/samples/GSM765nnn/GSM765393/suppl/GSM765393_wgEncodeCshlLongRnaSeqK562NucleolusTotalMinusRawSigRep4.bigWig\n",
    "# ChIA-PET data\n",
    "wget -O data/K562_chiapet_interaction.txt.gz ftp://ftp.ncbi.nlm.nih.gov/geo/samples/GSM832nnn/GSM832465/suppl/GSM832465_CHK019M_L2_lane24.ChromatinInteractions.bed.gz\n",
    "wget -O data/K562_chiapet.bigWig ftp://ftp.ncbi.nlm.nih.gov/geo/samples/GSM832nnn/GSM832465/suppl/GSM832465_CHK019M_L2_lane24.bw\n",
    "\n",
    "# RefSeq\n",
    "wget -O data/refGene.txt.gz http://hgdownload.soe.ucsc.edu/goldenPath/hg19/database/refGene.txt.gz"
   ]
  },
  {
   "cell_type": "code",
   "execution_count": 2,
   "metadata": {},
   "outputs": [
    {
     "name": "stdout",
     "output_type": "stream",
     "text": [
      "total 2.3G\r\n",
      "-rw-rw-r-- 1 nanguage nanguage  81M 4月   9 17:32 K562_chiapet.bigWig\r\n",
      "-rw-rw-r-- 1 nanguage nanguage 2.0M 4月   9 17:31 K562_chiapet_interaction.txt.gz\r\n",
      "-rw-rw-r-- 1 nanguage nanguage 293M 4月   9 16:56 K562_H3K27ac.bigWig\r\n",
      "-rw-rw-r-- 1 nanguage nanguage 384M 4月   9 17:13 K562_H3K27me3.bigWig\r\n",
      "-rw-rw-r-- 1 nanguage nanguage  83M 4月   9 17:17 K562_H3K4me3.bigWig\r\n",
      "-rw-rw-r-- 1 nanguage nanguage 528M 4月   9 16:38 K562_MbolI_5kb.cool\r\n",
      "-rw-rw-r-- 1 nanguage nanguage 363K 4月   9 16:53 K562_MbolI_looplist.txt.gz\r\n",
      "-rw-rw-r-- 1 nanguage nanguage 926M 4月   9 17:31 K562_RNASeq.bigWig\r\n",
      "drwxrwxr-x 2 nanguage nanguage 4.0K 4月  10 19:43 preprocessed\r\n",
      "-rw-rw-r-- 1 nanguage nanguage 6.5M 4月   8 21:50 refGene.txt.gz\r\n"
     ]
    }
   ],
   "source": [
    "!ls -lh data"
   ]
  },
  {
   "cell_type": "markdown",
   "metadata": {},
   "source": [
    "### Preprocessing\n",
    "\n",
    "Convert some files to specific format which CoolBox accept. "
   ]
  },
  {
   "cell_type": "code",
   "execution_count": 3,
   "metadata": {},
   "outputs": [],
   "source": [
    "!mkdir data/preprocessed"
   ]
  },
  {
   "cell_type": "markdown",
   "metadata": {},
   "source": [
    "Convert [refGene txt](http://genome.ucsc.edu/cgi-bin/hgTables) to [BED12 format](https://genome.ucsc.edu/FAQ/FAQformat.html#format1):"
   ]
  },
  {
   "cell_type": "code",
   "execution_count": 2,
   "metadata": {},
   "outputs": [],
   "source": [
    "from coolbox.utilities import refgene_txt_to_bed12\n",
    "\n",
    "refgene_txt_to_bed12(\"data/refGene.txt.gz\", \"data/preprocessed/refGene.bed\")"
   ]
  },
  {
   "cell_type": "code",
   "execution_count": 6,
   "metadata": {},
   "outputs": [],
   "source": [
    "!bedtools sort -i data/preprocessed/refGene.bed > data/preprocessed/refGene.sorted.bed"
   ]
  },
  {
   "cell_type": "markdown",
   "metadata": {},
   "source": [
    "Convert ChIA-PET interaction txt file to .arc format"
   ]
  },
  {
   "cell_type": "code",
   "execution_count": 4,
   "metadata": {},
   "outputs": [
    {
     "name": "stdout",
     "output_type": "stream",
     "text": [
      "chr1\t2438340\t2439860\tchr1:2438340..2439860-chr3:73159930..73161594,4\t400\t.\t2438340\t2439860\t255,0,0\t1\t1520\t0\r\n",
      "chr3\t73159930\t73161594\tchr1:2438340..2439860-chr3:73159930..73161594,4\t400\t.\t73159930\t73161594\t255,0,0\t1\t1664\t0\r\n",
      "chr1\t2438360\t2439860\tchr1:2438360..2439860-chr17:41463653..41465693,3\t300\t.\t2438360\t2439860\t255,0,0\t1\t1500\t0\r\n",
      "chr17\t41463653\t41465693\tchr1:2438360..2439860-chr17:41463653..41465693,3\t300\t.\t41463653\t41465693\t255,0,0\t1\t2040\t0\r\n",
      "chr1\t2439840\t2441340\tchr1:2439840..2441340-chr17:41465699..41467820,3\t300\t.\t2439840\t2441340\t255,0,0\t1\t1500\t0\r\n",
      "\r\n",
      "gzip: stdout: Broken pipe\r\n"
     ]
    }
   ],
   "source": [
    "!zcat data/K562_chiapet_interaction.txt.gz | head -n 5"
   ]
  },
  {
   "cell_type": "markdown",
   "metadata": {},
   "source": [
    "## Track is the basic element\n",
    "\n",
    "In CoolBox ploting system, \"Track\" is the basic element. If you have used genome browser like [UCSC Genome Browser](https://genome.ucsc.edu/) or [WashU EpiGenome Browser](https://epigenomegateway.wustl.edu/), you will know what it is.\n",
    "\n",
    "Basically, \"Track\" is a image what is related to a piece of continuous region on the reference genome. The most common track is the bigWig track, If you have read some papers about epigenomics you must have seen some figures like this:"
   ]
  },
  {
   "cell_type": "code",
   "execution_count": 18,
   "metadata": {},
   "outputs": [
    {
     "data": {
      "image/png": "[encoded data removed]",
      "text/plain": [
       "<matplotlib.figure.Figure at 0x7fd7ad98d710>"
      ]
     },
     "execution_count": 18,
     "metadata": {},
     "output_type": "execute_result"
    }
   ],
   "source": [
    "frame = XAxis() + BigWig(\"data/K562_RNASeq.bigWig\")\n",
    "frame.plot(\"chr1\", 1000000, 2000000)"
   ]
  },
  {
   "cell_type": "markdown",
   "metadata": {},
   "source": [
    "Actually, bigWig is just one kind of track, there are other kinds of tracks in CoolBox, for display other kind of genomic data like long range genome interaction from ChIA-PET and genome contact matrix from Hi-C.\n",
    "\n",
    "Now, CoolBox support 8 kinds of tracks:\n",
    "\n",
    "| Track Type  | CoolBox API | Description | \n",
    "| :---------: | :---------: | :---------: |\n",
    "| XAxis | `coolbox.api.XAxis` | X axis of genome |\n",
    "| Spacer | `coolbox.api.Spacer` | For add vertical space between two tracks |\n",
    "| bigWig | `coolbox.api.BigWig` | Track of bigWig file |\n",
    "| bedgraph | `coolbox.api.BedGraph` | Track of bedgraph file |\n",
    "| BED | `coolbox.api.Bed` | Track of Bed file, for visualization genome annotation,like refSeq genes chromatin states. |\n",
    "| TAD | `coolbox.api.TAD` | Track for show TAD(topologically associated domains) |\n",
    "| Arcs | `coolbox.api.Arcs` | Show the chromosome interactions get from ChIA-PET or Hi-C data. |\n",
    "| Cool | `coolbox.api.Cool` | Show the chromosome contact matrix from Hi-C data, accept [cooler](https://github.com/mirnylab/cooler) format |"
   ]
  },
  {
   "cell_type": "markdown",
   "metadata": {},
   "source": [
    "## Interactive visualization by coolbox.Browser"
   ]
  },
  {
   "cell_type": "code",
   "execution_count": 2,
   "metadata": {},
   "outputs": [],
   "source": [
    "frame = XAxis() + Bed(\"data/preprocessed/refGene.sorted.bed\") + TrackHeight(10)\n",
    "bsr = Browser(frame)"
   ]
  },
  {
   "cell_type": "code",
   "execution_count": 3,
   "metadata": {},
   "outputs": [
    {
     "data": {
      "application/vnd.jupyter.widget-view+json": {
       "model_id": "bc0719551a2f44a5bc93a879b1465062",
       "version_major": 2,
       "version_minor": 0
      },
      "text/html": [
       "<p>Failed to display Jupyter Widget of type <code>VBox</code>.</p>\n",
       "<p>\n",
       "  If you're reading this message in the Jupyter Notebook or JupyterLab Notebook, it may mean\n",
       "  that the widgets JavaScript is still loading. If this message persists, it\n",
       "  likely means that the widgets JavaScript library is either not installed or\n",
       "  not enabled. See the <a href=\"https://ipywidgets.readthedocs.io/en/stable/user_install.html\">Jupyter\n",
       "  Widgets Documentation</a> for setup instructions.\n",
       "</p>\n",
       "<p>\n",
       "  If you're reading this message in another frontend (for example, a static\n",
       "  rendering on GitHub or <a href=\"https://nbviewer.jupyter.org/\">NBViewer</a>),\n",
       "  it may mean that your frontend doesn't currently support widgets.\n",
       "</p>\n"
      ],
      "text/plain": [
       "VBox(children=(VBox(children=(HBox(children=(Dropdown(options=('chr1', 'chr2', 'chr3', 'chr4', 'chr5', 'chr6', 'chr7', 'chr8', 'chr9', 'chr10', 'chr11', 'chr12', 'chr13', 'chr14', 'chr15', 'chr16', 'chr17', 'chr18', 'chr19', 'chr20', 'chr21', 'chr22', 'chrX', 'chrY'), value='chr1'), Button(icon='arrow-left', style=ButtonStyle()), Button(icon='arrow-right', style=ButtonStyle()), Button(icon='search-minus', style=ButtonStyle()), Button(icon='search-plus', style=ButtonStyle()), Text(value='chr1:1-10000000', placeholder=\"genome range like: 'chr1:10000-20000'\"), Button(description='Go', style=ButtonStyle()))), HBox(children=(Label(value='1', layout=Layout(width='2%')), IntRangeSlider(value=(1, 10000000), continuous_update=False, layout=Layout(width='90%'), max=249250621, min=1, readout=False), Label(value='249250621', layout=Layout(width='20%')))), HBox(children=(Checkbox(value=True, description='Auto Range', layout=Layout(width='120px'), style=DescriptionStyle(description_width='initial')), FloatText(value=0.0, description=\"track's min value:\", disabled=True, layout=Layout(width='30%'), step=0.5, style=DescriptionStyle(description_width='initial')), FloatText(value=10.0, description=\"track's max value:\", disabled=True, layout=Layout(width='30%'), step=0.5, style=DescriptionStyle(description_width='initial'))), layout=Layout(justify_content='flex-start'))), layout=Layout(border='solid 2px')), Image(value=b'')))"
      ]
     },
     "metadata": {},
     "output_type": "display_data"
    }
   ],
   "source": [
    "bsr.show()"
   ]
  }
 ],
 "metadata": {
  "kernelspec": {
   "display_name": "Python 3",
   "language": "python",
   "name": "python3"
  },
  "language_info": {
   "codemirror_mode": {
    "name": "ipython",
    "version": 3
   },
   "file_extension": ".py",
   "mimetype": "text/x-python",
   "name": "python",
   "nbconvert_exporter": "python",
   "pygments_lexer": "ipython3",
   "version": "3.6.3"
  }
 },
 "nbformat": 4,
 "nbformat_minor": 2
}

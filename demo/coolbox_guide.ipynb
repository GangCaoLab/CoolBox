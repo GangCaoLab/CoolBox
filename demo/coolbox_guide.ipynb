{
 "cells": [
  {
   "cell_type": "markdown",
   "metadata": {},
   "source": [
    "# A Simple Guide of CoolBox\n"
   ]
  },
  {
   "cell_type": "code",
   "execution_count": null,
   "metadata": {},
   "outputs": [],
   "source": [
    "# import packages\n",
    "\n",
    "from coolbox.api import *"
   ]
  },
  {
   "cell_type": "markdown",
   "metadata": {},
   "source": [
    "## Download some example files"
   ]
  },
  {
   "cell_type": "markdown",
   "metadata": {},
   "source": [
    "Firstly we download some example files from public database. Here, all of our data is about the K562 cancer cell line."
   ]
  },
  {
   "cell_type": "code",
   "execution_count": 1,
   "metadata": {},
   "outputs": [
    {
     "name": "stderr",
     "output_type": "stream",
     "text": [
      "IOPub data rate exceeded.\n",
      "The notebook server will temporarily stop sending output\n",
      "to the client in order to avoid crashing it.\n",
      "To change this limit, set the config variable\n",
      "`--NotebookApp.iopub_data_rate_limit`.\n",
      "\n",
      "Current values:\n",
      "NotebookApp.iopub_data_rate_limit=1000000.0 (bytes/sec)\n",
      "NotebookApp.rate_limit_window=3.0 (secs)\n",
      "\n"
     ]
    }
   ],
   "source": [
    "%%bash\n",
    "\n",
    "mkdir data\n",
    "\n",
    "# example .cool file\n",
    "wget -O data/K562_MbolI_5kb.cool ftp://cooler.csail.mit.edu/coolers/hg19/Rao2014-K562-MboI-allreps-filtered.5kb.cool\n",
    "# .looplist file\n",
    "wget -O data/K562_MbolI_looplist.txt.gz ftp://ftp.ncbi.nlm.nih.gov/geo/series/GSE63nnn/GSE63525/suppl/GSE63525_K562_HiCCUPS_looplist.txt.gz\n",
    "\n",
    "# bigwig files (ChIP-Seq and RNA-Seq data)\n",
    "wget -O data/K562_H3K27ac.bigWig  ftp://ftp.ncbi.nlm.nih.gov/geo/samples/GSM733nnn/GSM733656/suppl/GSM733656_hg19_wgEncodeBroadHistoneK562H3k27acStdSig.bigWig\n",
    "wget -O data/K562_H3K27me3.bigWig ftp://ftp.ncbi.nlm.nih.gov/geo/samples/GSM733nnn/GSM733658/suppl/GSM733658_hg19_wgEncodeBroadHistoneK562H3k27me3StdSig.bigWig\n",
    "wget -O data/K562_H3K4me3.bigWig  ftp://ftp.ncbi.nlm.nih.gov/geo/samples/GSM945nnn/GSM945297/suppl/GSM945297_hg19_wgEncodeUwHistoneK562H3k04me3StdZnf2c10c5RawRep1.bigWig\n",
    "wget -O data/K562_RNASeq.bigWig ftp://ftp.ncbi.nlm.nih.gov/geo/samples/GSM765nnn/GSM765393/suppl/GSM765393_wgEncodeCshlLongRnaSeqK562NucleolusTotalMinusRawSigRep4.bigWig\n",
    "# ChIA-PET data\n",
    "wget -O data/K562_chiapet_interaction.txt.gz ftp://ftp.ncbi.nlm.nih.gov/geo/samples/GSM832nnn/GSM832465/suppl/GSM832465_CHK019M_L2_lane24.ChromatinInteractions.bed.gz\n",
    "wget -O data/K562_chiapet.bigWig ftp://ftp.ncbi.nlm.nih.gov/geo/samples/GSM832nnn/GSM832465/suppl/GSM832465_CHK019M_L2_lane24.bw\n",
    "\n",
    "# RefSeq\n",
    "wget -O data/refGene.txt.gz http://hgdownload.soe.ucsc.edu/goldenPath/hg19/database/refGene.txt.gz"
   ]
  },
  {
   "cell_type": "code",
   "execution_count": 5,
   "metadata": {},
   "outputs": [
    {
     "name": "stdout",
     "output_type": "stream",
     "text": [
      "total 2.3G\r\n",
      "-rw-rw-r-- 1 nanguage nanguage  81M 4月   9 17:32 K562_chiapet.bigWig\r\n",
      "-rw-rw-r-- 1 nanguage nanguage 2.0M 4月   9 17:31 K562_chiapet_interaction.txt.gz\r\n",
      "-rw-rw-r-- 1 nanguage nanguage 293M 4月   9 16:56 K562_H3K27ac.bigWig\r\n",
      "-rw-rw-r-- 1 nanguage nanguage 384M 4月   9 17:13 K562_H3K27me3.bigWig\r\n",
      "-rw-rw-r-- 1 nanguage nanguage  83M 4月   9 17:17 K562_H3K4me3.bigWig\r\n",
      "-rw-rw-r-- 1 nanguage nanguage 528M 4月   9 16:38 K562_MbolI_5kb.cool\r\n",
      "-rw-rw-r-- 1 nanguage nanguage 363K 4月   9 16:53 K562_MbolI_looplist.txt.gz\r\n",
      "-rw-rw-r-- 1 nanguage nanguage 926M 4月   9 17:31 K562_RNASeq.bigWig\r\n",
      "-rw-rw-r-- 1 nanguage nanguage 6.5M 4月   8 21:50 refGene.txt.gz\r\n"
     ]
    }
   ],
   "source": [
    "!ls -lh data"
   ]
  }
 ],
 "metadata": {
  "kernelspec": {
   "display_name": "Python 3",
   "language": "python",
   "name": "python3"
  },
  "language_info": {
   "codemirror_mode": {
    "name": "ipython",
    "version": 3
   },
   "file_extension": ".py",
   "mimetype": "text/x-python",
   "name": "python",
   "nbconvert_exporter": "python",
   "pygments_lexer": "ipython3",
   "version": "3.6.3"
  }
 },
 "nbformat": 4,
 "nbformat_minor": 2
}

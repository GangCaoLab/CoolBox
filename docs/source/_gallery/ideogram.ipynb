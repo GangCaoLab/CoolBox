{
 "cells": [
  {
   "cell_type": "markdown",
   "id": "6bc73f0f",
   "metadata": {},
   "source": [
    "# Ideogram\n",
    "\n",
    "Plot the chromosome ideograme track.\n",
    "\n",
    "Input file can be download from the UCSC Table Browser CytoBandIdeo table (in \"all table\" group). See this [link](http://genome.ucsc.edu/cgi-bin/hgTables?hgta_group=allTables&hgta_table=cytoBandIdeo)"
   ]
  },
  {
   "cell_type": "code",
   "execution_count": 1,
   "id": "0a97bf10",
   "metadata": {},
   "outputs": [],
   "source": [
    "import coolbox\n",
    "from coolbox.api import *"
   ]
  },
  {
   "cell_type": "code",
   "execution_count": 2,
   "id": "edf980b1",
   "metadata": {},
   "outputs": [
    {
     "data": {
      "text/plain": [
       "'0.3.8'"
      ]
     },
     "execution_count": 2,
     "metadata": {},
     "output_type": "execute_result"
    }
   ],
   "source": [
    "coolbox.__version__"
   ]
  },
  {
   "cell_type": "code",
   "execution_count": 3,
   "id": "b6d22c5a",
   "metadata": {
    "tags": [
     "nbsphinx-thumbnail"
    ]
   },
   "outputs": [
    {
     "data": {
      "image/png": "[encoded data removed]",
      "text/plain": [
       "<Figure size 1133.86x90.7087 with 6 Axes>"
      ]
     },
     "execution_count": 3,
     "metadata": {},
     "output_type": "execute_result"
    }
   ],
   "source": [
    "example_file = \"../../../tests/test_data/hg19_ideogram.txt\"\n",
    "region = \"chr9:32906246-65812491\"\n",
    "\n",
    "frame = XAxis() + Ideogram(example_file)\n",
    "frame.plot(region)"
   ]
  },
  {
   "cell_type": "markdown",
   "id": "2a45429d",
   "metadata": {},
   "source": [
    "Use `show_band_name` can turn off the band name draw: "
   ]
  },
  {
   "cell_type": "code",
   "execution_count": 4,
   "id": "1b3baa28",
   "metadata": {},
   "outputs": [
    {
     "data": {
      "image/png": "[encoded data removed]",
      "text/plain": [
       "<Figure size 1133.86x90.7087 with 6 Axes>"
      ]
     },
     "execution_count": 4,
     "metadata": {},
     "output_type": "execute_result"
    }
   ],
   "source": [
    "frame = XAxis() + Ideogram(example_file, show_band_name=False)\n",
    "frame.plot(region)"
   ]
  },
  {
   "cell_type": "markdown",
   "id": "ebf0825b",
   "metadata": {},
   "source": [
    "The color scheme can be changed with `color_scheme` parameter, the default color_scheme stored in:"
   ]
  },
  {
   "cell_type": "code",
   "execution_count": 5,
   "id": "547e8fe1",
   "metadata": {},
   "outputs": [
    {
     "data": {
      "text/plain": [
       "{'gneg': '#ffffff',\n",
       " 'gpos25': '#999999',\n",
       " 'gpos50': '#666666',\n",
       " 'gpos75': '#333333',\n",
       " 'gpos100': '#000000',\n",
       " 'acen': '#cc6666',\n",
       " 'gvar': '#cccccc',\n",
       " 'stalk': '#e5e5e5'}"
      ]
     },
     "execution_count": 5,
     "metadata": {},
     "output_type": "execute_result"
    }
   ],
   "source": [
    "Ideogram.DEFAULT_COLOR_SCHEME"
   ]
  },
  {
   "cell_type": "markdown",
   "id": "84af09f3",
   "metadata": {},
   "source": [
    "We can use another scheme, by passing the `color_scheme` parameter:"
   ]
  },
  {
   "cell_type": "code",
   "execution_count": 6,
   "id": "c548cc48",
   "metadata": {},
   "outputs": [
    {
     "data": {
      "image/png": "[encoded data removed]",
      "text/plain": [
       "<Figure size 1133.86x90.7087 with 6 Axes>"
      ]
     },
     "execution_count": 6,
     "metadata": {},
     "output_type": "execute_result"
    }
   ],
   "source": [
    "my_scheme = {\n",
    "    'gneg': '#ffffff',\n",
    "    'gpos25': '#999900',\n",
    "    'gpos50': '#666600',\n",
    "    'gpos75': '#333300',\n",
    "    'gpos100': '#000000',\n",
    "    'acen': '#0022ff',\n",
    "    'gvar': '#cccc00',\n",
    "    'stalk': '#e5e500'\n",
    "}\n",
    "frame = XAxis() + Ideogram(example_file, show_band_name=False, color_scheme=my_scheme)\n",
    "frame.plot(region)"
   ]
  }
 ],
 "metadata": {
  "celltoolbar": "编辑元数据",
  "kernelspec": {
   "display_name": "Python 3",
   "language": "python",
   "name": "python3"
  },
  "language_info": {
   "codemirror_mode": {
    "name": "ipython",
    "version": 3
   },
   "file_extension": ".py",
   "mimetype": "text/x-python",
   "name": "python",
   "nbconvert_exporter": "python",
   "pygments_lexer": "ipython3",
   "version": "3.8.8"
  }
 },
 "nbformat": 4,
 "nbformat_minor": 5
}

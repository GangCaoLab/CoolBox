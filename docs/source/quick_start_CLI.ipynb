{
 "cells": [
  {
   "cell_type": "markdown",
   "metadata": {},
   "source": [
    "# Quickstart (CLI)\n",
    "\n",
    "This document is for teach the basic usage of CoolBox's Command Line Interface.\n",
    "\n",
    "CoolBox CLI is a chainable command tool which can compose\n",
    "complex frame as easily with very intuition synatax.\n",
    "\n",
    "![fig_CLI](../images/fig_CLI.png)"
   ]
  },
  {
   "cell_type": "markdown",
   "metadata": {},
   "source": [
    "## Check the basic information\n",
    "\n",
    "Firstly, check the coolbox version:"
   ]
  },
  {
   "cell_type": "code",
   "execution_count": 12,
   "metadata": {},
   "outputs": [
    {
     "name": "stdout",
     "output_type": "stream",
     "text": [
      "0.2.2\n"
     ]
    }
   ],
   "source": [
    "%%bash\n",
    "\n",
    "coolbox version"
   ]
  },
  {
   "cell_type": "markdown",
   "metadata": {},
   "source": [
    "CoolBox CLI is composed by many chainable sub-commands,\n",
    "we can print the help information to list them:"
   ]
  },
  {
   "cell_type": "code",
   "execution_count": 16,
   "metadata": {},
   "outputs": [
    {
     "name": "stdout",
     "output_type": "stream",
     "text": [
      "\u001b[1mNAME\u001b[0m\n",
      "    coolbox - CoolBox Command Line Interface\n",
      "\n",
      "\u001b[1mSYNOPSIS\u001b[0m\n",
      "    coolbox - \u001b[4mGROUP\u001b[0m | \u001b[4mCOMMAND\u001b[0m | \u001b[4mVALUE\u001b[0m\n",
      "\n",
      "\u001b[1mDESCRIPTION\u001b[0m\n",
      "    You can use this cli to create coolbox browser instance,\n",
      "    visualize your data directly in shell.\n",
      "\n",
      "    example:\n",
      "\n",
      "    1. Draw tracks within a genome range, save figure to a pdf file:\n",
      "\n",
      "        $ coolbox add XAxis - add BigWig test.bw - goto \"chr1:5000000-6000000\" - plot test.pdf\n",
      "\n",
      "    2. Generate a notebook and run jupyter to open browser:\n",
      "\n",
      "        $ coolbox add XAxis - add BigWig test.bw - goto \"chr1:5000000-6000000\" - run_jupyter\n",
      "\n",
      "    3. Run a independent web application.\n",
      "\n",
      "        $ coolbox add XAxis - add BigWig test.bw - goto \"chr1:5000000-6000000\" - run_webapp\n",
      "\n",
      "\u001b[1mGROUPS\u001b[0m\n",
      "    \u001b[1m\u001b[4mGROUP\u001b[0m\u001b[0m is one of the following:\n",
      "\n",
      "     frame\n",
      "       Frame for arrange and group plots.\n",
      "\n",
      "\u001b[1mCOMMANDS\u001b[0m\n",
      "    \u001b[1m\u001b[4mCOMMAND\u001b[0m\u001b[0m is one of the following:\n",
      "\n",
      "     add\n",
      "       Add a Element(Track, Coverage, Feature)\n",
      "\n",
      "     end\n",
      "       Terminate the CLI pipeline\n",
      "\n",
      "     gen_notebook\n",
      "       Generate The notebook contain codes for run coolbox browser.\n",
      "\n",
      "     goto\n",
      "       Goto a genome range.\n",
      "\n",
      "     plot\n",
      "       Draw a figure within a genome range and save to file\n",
      "\n",
      "     print_source\n",
      "       Print the browser composing code.\n",
      "\n",
      "     run_jupyter\n",
      "       Create a notebook according to command line, then start a jupyter process.\n",
      "\n",
      "     run_webapp\n",
      "       Run a independent coolbox browser web app. (Create notebook and run voila)\n",
      "\n",
      "     set_genome\n",
      "       Set reference genome for browser object.\n",
      "\n",
      "     version\n",
      "       print coolbox version\n",
      "\n",
      "\u001b[1mVALUES\u001b[0m\n",
      "    \u001b[1m\u001b[4mVALUE\u001b[0m\u001b[0m is one of the following:\n",
      "\n",
      "     current_range\n",
      "\n",
      "     genome\n",
      "\n",
      "     source\n"
     ]
    }
   ],
   "source": [
    "%%bash\n",
    "\n",
    "coolbox"
   ]
  },
  {
   "cell_type": "markdown",
   "metadata": {},
   "source": [
    "## Examples"
   ]
  }
 ],
 "metadata": {
  "@webio": {
   "lastCommId": null,
   "lastKernelId": null
  },
  "kernelspec": {
   "display_name": "Python 3",
   "language": "python",
   "name": "python3"
  },
  "language_info": {
   "codemirror_mode": {
    "name": "ipython",
    "version": 3
   },
   "file_extension": ".py",
   "mimetype": "text/x-python",
   "name": "python",
   "nbconvert_exporter": "python",
   "pygments_lexer": "ipython3",
   "version": "3.7.9"
  }
 },
 "nbformat": 4,
 "nbformat_minor": 4
}
